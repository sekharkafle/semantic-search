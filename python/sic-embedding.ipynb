{
 "cells": [
  {
   "cell_type": "code",
   "execution_count": 1,
   "metadata": {},
   "outputs": [],
   "source": [
    "#import libs\n",
    "from openai import OpenAI\n",
    "import pandas as pd"
   ]
  },
  {
   "cell_type": "code",
   "execution_count": null,
   "metadata": {},
   "outputs": [],
   "source": [
    "#create OpenAI client\n",
    "client = OpenAI()\n"
   ]
  },
  {
   "cell_type": "code",
   "execution_count": null,
   "metadata": {},
   "outputs": [],
   "source": [
    "#get vector embedding from OpenAI\n",
    "def get_embedding(text, model=\"text-embedding-ada-002\"):\n",
    "   text = text.replace(\"\\n\", \" \")\n",
    "   return client.embeddings.create(input = [text], model=model).data[0].embedding"
   ]
  },
  {
   "cell_type": "code",
   "execution_count": 3,
   "metadata": {},
   "outputs": [],
   "source": [
    "#load csv data\n",
    "df = pd.read_csv(\"sic.csv\")"
   ]
  },
  {
   "cell_type": "code",
   "execution_count": 4,
   "metadata": {},
   "outputs": [],
   "source": [
    "#clean up data\n",
    "df[\"industry_title\"] = df[\"industry_title\"].str.replace('SIC ','')"
   ]
  },
  {
   "cell_type": "code",
   "execution_count": 8,
   "metadata": {},
   "outputs": [
    {
     "data": {
      "text/html": [
       "<div>\n",
       "<style scoped>\n",
       "    .dataframe tbody tr th:only-of-type {\n",
       "        vertical-align: middle;\n",
       "    }\n",
       "\n",
       "    .dataframe tbody tr th {\n",
       "        vertical-align: top;\n",
       "    }\n",
       "\n",
       "    .dataframe thead th {\n",
       "        text-align: right;\n",
       "    }\n",
       "</style>\n",
       "<table border=\"1\" class=\"dataframe\">\n",
       "  <thead>\n",
       "    <tr style=\"text-align: right;\">\n",
       "      <th></th>\n",
       "      <th>csv_industry_code</th>\n",
       "      <th>ewb_industry_code</th>\n",
       "      <th>industry_title</th>\n",
       "    </tr>\n",
       "  </thead>\n",
       "  <tbody>\n",
       "    <tr>\n",
       "      <th>12</th>\n",
       "      <td>SIC_0A01</td>\n",
       "      <td>0A01</td>\n",
       "      <td>01 Agricultural Production Crops</td>\n",
       "    </tr>\n",
       "    <tr>\n",
       "      <th>13</th>\n",
       "      <td>SIC_0A011</td>\n",
       "      <td>0A011</td>\n",
       "      <td>011 Cash Grains</td>\n",
       "    </tr>\n",
       "    <tr>\n",
       "      <th>14</th>\n",
       "      <td>SIC_0A0111</td>\n",
       "      <td>0A0111</td>\n",
       "      <td>0111 Wheat</td>\n",
       "    </tr>\n",
       "    <tr>\n",
       "      <th>15</th>\n",
       "      <td>SIC_0A0112</td>\n",
       "      <td>0A0112</td>\n",
       "      <td>0112 Rice</td>\n",
       "    </tr>\n",
       "    <tr>\n",
       "      <th>16</th>\n",
       "      <td>SIC_0A0115</td>\n",
       "      <td>0A0115</td>\n",
       "      <td>0115 Corn</td>\n",
       "    </tr>\n",
       "  </tbody>\n",
       "</table>\n",
       "</div>"
      ],
      "text/plain": [
       "   csv_industry_code ewb_industry_code                    industry_title\n",
       "12          SIC_0A01              0A01  01 Agricultural Production Crops\n",
       "13         SIC_0A011             0A011                   011 Cash Grains\n",
       "14        SIC_0A0111            0A0111                        0111 Wheat\n",
       "15        SIC_0A0112            0A0112                         0112 Rice\n",
       "16        SIC_0A0115            0A0115                         0115 Corn"
      ]
     },
     "execution_count": 8,
     "metadata": {},
     "output_type": "execute_result"
    }
   ],
   "source": [
    "#skip top 12 records and use the rest\n",
    "df3 = df[12:]\n",
    "df3.head()"
   ]
  },
  {
   "cell_type": "code",
   "execution_count": null,
   "metadata": {},
   "outputs": [],
   "source": [
    "#get vector embedding and add to the dataframe\n",
    "#save the dataframe with vector embedding data, so that the data can be reused\n",
    "#and we can minimize embedding cost\n",
    "df3['ada_embedding'] = df3.industry_title.apply(lambda x: get_embedding(x, model='text-embedding-ada-002'))\n",
    "df3.to_csv('embedded-code-full.csv', index=False)"
   ]
  },
  {
   "cell_type": "code",
   "execution_count": 11,
   "metadata": {},
   "outputs": [
    {
     "data": {
      "text/html": [
       "<div>\n",
       "<style scoped>\n",
       "    .dataframe tbody tr th:only-of-type {\n",
       "        vertical-align: middle;\n",
       "    }\n",
       "\n",
       "    .dataframe tbody tr th {\n",
       "        vertical-align: top;\n",
       "    }\n",
       "\n",
       "    .dataframe thead th {\n",
       "        text-align: right;\n",
       "    }\n",
       "</style>\n",
       "<table border=\"1\" class=\"dataframe\">\n",
       "  <thead>\n",
       "    <tr style=\"text-align: right;\">\n",
       "      <th></th>\n",
       "      <th>csv_industry_code</th>\n",
       "      <th>ewb_industry_code</th>\n",
       "      <th>industry_title</th>\n",
       "      <th>ada_embedding</th>\n",
       "    </tr>\n",
       "  </thead>\n",
       "  <tbody>\n",
       "    <tr>\n",
       "      <th>0</th>\n",
       "      <td>SIC_0A01</td>\n",
       "      <td>0A01</td>\n",
       "      <td>01 Agricultural Production Crops</td>\n",
       "      <td>[-0.009058876894414425, -0.014253156259655952,...</td>\n",
       "    </tr>\n",
       "    <tr>\n",
       "      <th>1</th>\n",
       "      <td>SIC_0A011</td>\n",
       "      <td>0A011</td>\n",
       "      <td>011 Cash Grains</td>\n",
       "      <td>[-0.012378759682178497, 0.0057749575935304165,...</td>\n",
       "    </tr>\n",
       "    <tr>\n",
       "      <th>2</th>\n",
       "      <td>SIC_0A0111</td>\n",
       "      <td>0A0111</td>\n",
       "      <td>0111 Wheat</td>\n",
       "      <td>[-0.004349409602582455, -0.014054561965167522,...</td>\n",
       "    </tr>\n",
       "    <tr>\n",
       "      <th>3</th>\n",
       "      <td>SIC_0A0112</td>\n",
       "      <td>0A0112</td>\n",
       "      <td>0112 Rice</td>\n",
       "      <td>[-0.002359968377277255, -0.010370948351919651,...</td>\n",
       "    </tr>\n",
       "    <tr>\n",
       "      <th>4</th>\n",
       "      <td>SIC_0A0115</td>\n",
       "      <td>0A0115</td>\n",
       "      <td>0115 Corn</td>\n",
       "      <td>[-0.017421545460820198, -0.006935370620340109,...</td>\n",
       "    </tr>\n",
       "  </tbody>\n",
       "</table>\n",
       "</div>"
      ],
      "text/plain": [
       "  csv_industry_code ewb_industry_code                    industry_title  \\\n",
       "0          SIC_0A01              0A01  01 Agricultural Production Crops   \n",
       "1         SIC_0A011             0A011                   011 Cash Grains   \n",
       "2        SIC_0A0111            0A0111                        0111 Wheat   \n",
       "3        SIC_0A0112            0A0112                         0112 Rice   \n",
       "4        SIC_0A0115            0A0115                         0115 Corn   \n",
       "\n",
       "                                       ada_embedding  \n",
       "0  [-0.009058876894414425, -0.014253156259655952,...  \n",
       "1  [-0.012378759682178497, 0.0057749575935304165,...  \n",
       "2  [-0.004349409602582455, -0.014054561965167522,...  \n",
       "3  [-0.002359968377277255, -0.010370948351919651,...  \n",
       "4  [-0.017421545460820198, -0.006935370620340109,...  "
      ]
     },
     "execution_count": 11,
     "metadata": {},
     "output_type": "execute_result"
    }
   ],
   "source": [
    "df = pd.read_csv('embedded-code-full.csv')\n",
    "df.head()"
   ]
  },
  {
   "cell_type": "code",
   "execution_count": null,
   "metadata": {},
   "outputs": [],
   "source": [
    "#create pinecone index\n",
    "from pinecone import Pinecone\n",
    "\n",
    "index_name = 'index'\n",
    "pc = Pinecone(api_key=\"\", environment=\"\")\n",
    "index = pc.Index(index_name)"
   ]
  },
  {
   "cell_type": "code",
   "execution_count": 5,
   "metadata": {},
   "outputs": [],
   "source": [
    "import numpy as np\n",
    "df['ada_embedding'] = df.ada_embedding.apply(eval).apply(np.array)"
   ]
  },
  {
   "cell_type": "code",
   "execution_count": 6,
   "metadata": {},
   "outputs": [
    {
     "data": {
      "text/html": [
       "<div>\n",
       "<style scoped>\n",
       "    .dataframe tbody tr th:only-of-type {\n",
       "        vertical-align: middle;\n",
       "    }\n",
       "\n",
       "    .dataframe tbody tr th {\n",
       "        vertical-align: top;\n",
       "    }\n",
       "\n",
       "    .dataframe thead th {\n",
       "        text-align: right;\n",
       "    }\n",
       "</style>\n",
       "<table border=\"1\" class=\"dataframe\">\n",
       "  <thead>\n",
       "    <tr style=\"text-align: right;\">\n",
       "      <th></th>\n",
       "      <th>csv_industry_code</th>\n",
       "      <th>ewb_industry_code</th>\n",
       "      <th>industry_title</th>\n",
       "      <th>ada_embedding</th>\n",
       "    </tr>\n",
       "  </thead>\n",
       "  <tbody>\n",
       "    <tr>\n",
       "      <th>0</th>\n",
       "      <td>SIC_0A01</td>\n",
       "      <td>0A01</td>\n",
       "      <td>01 Agricultural Production Crops</td>\n",
       "      <td>[-0.009058876894414425, -0.014253156259655952,...</td>\n",
       "    </tr>\n",
       "    <tr>\n",
       "      <th>1</th>\n",
       "      <td>SIC_0A011</td>\n",
       "      <td>0A011</td>\n",
       "      <td>011 Cash Grains</td>\n",
       "      <td>[-0.012378759682178497, 0.0057749575935304165,...</td>\n",
       "    </tr>\n",
       "    <tr>\n",
       "      <th>2</th>\n",
       "      <td>SIC_0A0111</td>\n",
       "      <td>0A0111</td>\n",
       "      <td>0111 Wheat</td>\n",
       "      <td>[-0.004349409602582455, -0.014054561965167522,...</td>\n",
       "    </tr>\n",
       "    <tr>\n",
       "      <th>3</th>\n",
       "      <td>SIC_0A0112</td>\n",
       "      <td>0A0112</td>\n",
       "      <td>0112 Rice</td>\n",
       "      <td>[-0.002359968377277255, -0.010370948351919651,...</td>\n",
       "    </tr>\n",
       "    <tr>\n",
       "      <th>4</th>\n",
       "      <td>SIC_0A0115</td>\n",
       "      <td>0A0115</td>\n",
       "      <td>0115 Corn</td>\n",
       "      <td>[-0.017421545460820198, -0.006935370620340109,...</td>\n",
       "    </tr>\n",
       "    <tr>\n",
       "      <th>5</th>\n",
       "      <td>SIC_0A0116</td>\n",
       "      <td>0A0116</td>\n",
       "      <td>0116 Soybeans</td>\n",
       "      <td>[-0.011305897496640682, -0.016329267993569374,...</td>\n",
       "    </tr>\n",
       "    <tr>\n",
       "      <th>6</th>\n",
       "      <td>SIC_0A0119</td>\n",
       "      <td>0A0119</td>\n",
       "      <td>0119 Cash grains, nec</td>\n",
       "      <td>[-0.011909620836377144, -0.013629973866045475,...</td>\n",
       "    </tr>\n",
       "    <tr>\n",
       "      <th>7</th>\n",
       "      <td>SIC_0A013</td>\n",
       "      <td>0A013</td>\n",
       "      <td>013 Field Crops, Except Cash Grains</td>\n",
       "      <td>[-0.017850518226623535, 8.419383084401488e-05,...</td>\n",
       "    </tr>\n",
       "    <tr>\n",
       "      <th>8</th>\n",
       "      <td>SIC_0A0131</td>\n",
       "      <td>0A0131</td>\n",
       "      <td>0131 Cotton</td>\n",
       "      <td>[-0.00759208295494318, -0.011167967692017555, ...</td>\n",
       "    </tr>\n",
       "    <tr>\n",
       "      <th>9</th>\n",
       "      <td>SIC_0A0132</td>\n",
       "      <td>0A0132</td>\n",
       "      <td>0132 Tobacco</td>\n",
       "      <td>[-0.006475711241364479, 0.003945466596633196, ...</td>\n",
       "    </tr>\n",
       "  </tbody>\n",
       "</table>\n",
       "</div>"
      ],
      "text/plain": [
       "  csv_industry_code ewb_industry_code                       industry_title  \\\n",
       "0          SIC_0A01              0A01     01 Agricultural Production Crops   \n",
       "1         SIC_0A011             0A011                      011 Cash Grains   \n",
       "2        SIC_0A0111            0A0111                           0111 Wheat   \n",
       "3        SIC_0A0112            0A0112                            0112 Rice   \n",
       "4        SIC_0A0115            0A0115                            0115 Corn   \n",
       "5        SIC_0A0116            0A0116                        0116 Soybeans   \n",
       "6        SIC_0A0119            0A0119                0119 Cash grains, nec   \n",
       "7         SIC_0A013             0A013  013 Field Crops, Except Cash Grains   \n",
       "8        SIC_0A0131            0A0131                          0131 Cotton   \n",
       "9        SIC_0A0132            0A0132                         0132 Tobacco   \n",
       "\n",
       "                                       ada_embedding  \n",
       "0  [-0.009058876894414425, -0.014253156259655952,...  \n",
       "1  [-0.012378759682178497, 0.0057749575935304165,...  \n",
       "2  [-0.004349409602582455, -0.014054561965167522,...  \n",
       "3  [-0.002359968377277255, -0.010370948351919651,...  \n",
       "4  [-0.017421545460820198, -0.006935370620340109,...  \n",
       "5  [-0.011305897496640682, -0.016329267993569374,...  \n",
       "6  [-0.011909620836377144, -0.013629973866045475,...  \n",
       "7  [-0.017850518226623535, 8.419383084401488e-05,...  \n",
       "8  [-0.00759208295494318, -0.011167967692017555, ...  \n",
       "9  [-0.006475711241364479, 0.003945466596633196, ...  "
      ]
     },
     "execution_count": 6,
     "metadata": {},
     "output_type": "execute_result"
    }
   ],
   "source": [
    "df[:10]"
   ]
  },
  {
   "cell_type": "code",
   "execution_count": 11,
   "metadata": {},
   "outputs": [
    {
     "name": "stderr",
     "output_type": "stream",
     "text": [
      "100%|███████████████████████████████████████████| 55/55 [01:00<00:00,  1.11s/it]\n"
     ]
    }
   ],
   "source": [
    "#upsert vector embedding and the title text as metadata to pinecone\n",
    "from tqdm.auto import tqdm\n",
    "\n",
    "count = 0  # we'll use the count to create unique IDs\n",
    "batch_size = 32  # process everything in batches of 32\n",
    "for i in tqdm(range(0, len(df), batch_size)):\n",
    "    # set end position of batch\n",
    "    i_end = min(i+batch_size, len(df))\n",
    "    # get batch of lines and IDs\n",
    "    embeds = df['ada_embedding'][i: i_end]\n",
    "    lines_batch = df['industry_title'][i: i_end]\n",
    "    ids_batch = [str(n) for n in range(i, i_end)]\n",
    "    # prep metadata and upsert batch\n",
    "    meta = [{'text': line} for line in lines_batch]\n",
    "    to_upsert = zip(ids_batch, embeds, meta)\n",
    "    # upsert to Pinecone\n",
    "    index.upsert(vectors=list(to_upsert))"
   ]
  },
  {
   "cell_type": "code",
   "execution_count": null,
   "metadata": {},
   "outputs": [],
   "source": []
  }
 ],
 "metadata": {
  "kernelspec": {
   "display_name": "Python 3",
   "language": "python",
   "name": "python3"
  },
  "language_info": {
   "codemirror_mode": {
    "name": "ipython",
    "version": 3
   },
   "file_extension": ".py",
   "mimetype": "text/x-python",
   "name": "python",
   "nbconvert_exporter": "python",
   "pygments_lexer": "ipython3",
   "version": "3.7.1"
  }
 },
 "nbformat": 4,
 "nbformat_minor": 4
}
